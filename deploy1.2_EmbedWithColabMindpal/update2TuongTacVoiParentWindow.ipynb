{
 "cells": [
  {
   "cell_type": "markdown",
   "metadata": {},
   "source": [
    "Update để nhận thông tin call từ parent window:"
   ]
  },
  {
   "cell_type": "markdown",
   "metadata": {},
   "source": [
    "```\n",
    "// Xử lý tin nhắn từ parent window\n",
    "window.addEventListener('message', (event) => {\n",
    "    if (event.data && event.data.type === 'sendMessage') {\n",
    "        const message = event.data.message;\n",
    "        sendMessage(message);\n",
    "    }\n",
    "});\n",
    "\n",
    "// Xử lý input từ người dùng\n",
    "sendButton.addEventListener('click', () => {\n",
    "    const message = userInput.value.trim();\n",
    "    if (message) {\n",
    "        sendMessage(message);\n",
    "        userInput.value = '';\n",
    "    }\n",
    "});\n",
    "\n",
    "userInput.addEventListener('keypress', (e) => {\n",
    "    if (e.key === 'Enter') {\n",
    "        const message = userInput.value.trim();\n",
    "        if (message) {\n",
    "            sendMessage(message);\n",
    "            userInput.value = '';\n",
    "        }\n",
    "    }\n",
    "});\n",
    "```"
   ]
  }
 ],
 "metadata": {
  "language_info": {
   "name": "python"
  }
 },
 "nbformat": 4,
 "nbformat_minor": 2
}
